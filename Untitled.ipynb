{
 "cells": [
  {
   "cell_type": "code",
   "execution_count": 8,
   "metadata": {},
   "outputs": [
    {
     "name": "stdout",
     "output_type": "stream",
     "text": [
      "['Data/Label04.jpg', 'Data/Label05.jpg', 'Data/Label02.jpg', 'Data/Label06.jpg', 'Data/Label01.jpg', 'Data/Label08.jpg', 'Data/Label03.jpg', 'Data/Label07.jpg']\n",
      "['Label04', 'Label05', 'Label02', 'Label06', 'Label01', 'Label08', 'Label03', 'Label07']\n"
     ]
    }
   ],
   "source": [
    "import glob\n",
    "#import cv2\n",
    "import numpy as np\n",
    "\n",
    "#images = [cv2.imread(file) for file in glob.glob(\"Data/*.jpg\")]\n",
    "\n",
    "Image_names = glob.glob(\"Data/*.jpg\")\n",
    "print Image_names\n",
    "\n",
    "for i in range (len(Image_names)):\n",
    "    Image_names[i]=Image_names[i].replace(\"Data/\",\"\")\n",
    "    Image_names[i]=Image_names[i].replace(\".jpg\",\"\")\n",
    "    \n",
    "print Image_names"
   ]
  },
  {
   "cell_type": "code",
   "execution_count": null,
   "metadata": {
    "collapsed": true
   },
   "outputs": [],
   "source": []
  }
 ],
 "metadata": {
  "kernelspec": {
   "display_name": "Python 2",
   "language": "python",
   "name": "python2"
  },
  "language_info": {
   "codemirror_mode": {
    "name": "ipython",
    "version": 2
   },
   "file_extension": ".py",
   "mimetype": "text/x-python",
   "name": "python",
   "nbconvert_exporter": "python",
   "pygments_lexer": "ipython2",
   "version": "2.7.13"
  }
 },
 "nbformat": 4,
 "nbformat_minor": 2
}
